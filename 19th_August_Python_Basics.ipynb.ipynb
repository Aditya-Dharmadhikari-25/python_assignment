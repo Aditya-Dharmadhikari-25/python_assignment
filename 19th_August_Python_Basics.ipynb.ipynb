{
 "cells": [
  {
   "cell_type": "code",
   "execution_count": 1,
   "id": "c666e2e8-bfff-4863-b0a5-4c8dea214fb4",
   "metadata": {},
   "outputs": [],
   "source": [
    "# TOPIC: Python Basics Variable"
   ]
  },
  {
   "cell_type": "code",
   "execution_count": 3,
   "id": "cde25ac1-f8da-4ab5-b53d-81a0a587698a",
   "metadata": {},
   "outputs": [
    {
     "name": "stdout",
     "output_type": "stream",
     "text": [
      "After swapping:\n",
      "x = 10\n",
      "y = 5\n"
     ]
    }
   ],
   "source": [
    "# Q1. Declare two variables, `x` and `y`, and assign them integer values. \n",
    "# Swap the values of these variables without using any temporary variable\n",
    "\n",
    "# Declare and initialize two variables\n",
    "x = 5\n",
    "y = 10\n",
    "\n",
    "# Swapping the values without using a temporary variable\n",
    "x = x + y  # Add the values of x and y and store the result in x\n",
    "y = x - y  # Subtract the original value oxf y (now stored in x) from x and store the result in y\n",
    "x = x - y  # Subtract the original value of x (now stored in y) from y and store the result in x\n",
    "\n",
    "# Now, x and y have swapped values\n",
    "print(\"After swapping:\")\n",
    "print(\"x =\", x)\n",
    "print(\"y =\", y)"
   ]
  },
  {
   "cell_type": "code",
   "execution_count": 5,
   "id": "f0a5bf3e-9618-43e5-9432-c72eb5e309b9",
   "metadata": {},
   "outputs": [],
   "source": [
    "# Explanation:\n",
    "\n",
    "# Initially, x holds the value 5, and y holds the value 10.\n",
    "# We add the values of x and y and store the result in x. So, x becomes 15.\n",
    "# Next, we subtract the original value of y (which is 10) \n",
    "# from the new value of x (which is 15) and store the result in y. So, y becomes 5.\n",
    "# Finally, we subtract the original value of x (which is now stored in y, i.e., 10) \n",
    "# from the new value of y (which is 5) and store the result in x. So, x becomes 10.\n",
    "# After these operations, x and y have swapped values, \n",
    "# and you can see the swapped values printed at the end.\n",
    "# This method swaps the values of x and y without the need for a temporary variable."
   ]
  },
  {
   "cell_type": "code",
   "execution_count": 36,
   "id": "9c226f74-cafc-4932-b2b6-c56a3b2c9155",
   "metadata": {},
   "outputs": [
    {
     "name": "stdin",
     "output_type": "stream",
     "text": [
      "Enter the length of the rectangle:  10\n",
      "Enter the width of the rectangle:  5\n"
     ]
    },
    {
     "name": "stdout",
     "output_type": "stream",
     "text": [
      "The area of the rectangle is: 50.0\n"
     ]
    }
   ],
   "source": [
    "# Q2. Create a program that calculates the area of a rectangle. Take the length and\n",
    "# width as inputs from the user and store them in variables. Calculate and\n",
    "# display the area.\n",
    "\n",
    "# Prompt the user to enter the length of the rectangle\n",
    "length = float(input(\"Enter the length of the rectangle: \"))\n",
    "\n",
    "# Prompt the user to enter the width of the rectangle\n",
    "width = float(input(\"Enter the width of the rectangle: \"))\n",
    "\n",
    "# Calculate the area of the rectangle\n",
    "area = length * width\n",
    "\n",
    "# Display the result\n",
    "print(\"The area of the rectangle is:\", area)"
   ]
  },
  {
   "cell_type": "code",
   "execution_count": 8,
   "id": "b1d7c9cf-ebaa-4e70-be11-59c9de3843b2",
   "metadata": {},
   "outputs": [],
   "source": [
    "# Explanation:\n",
    "\n",
    "# area of a rectangle, which is: area = length * width\n",
    "# In this case, the length is 10, and the width is 5, so the calculation is:\n",
    "# area = 10 * 5\n",
    "# The multiplication of 10 and 5 is performed, and the result is stored in the variable area.\n",
    "# the calculated area is 50 (10 * 5), so the program displays:\n",
    "# The area of the rectangle is: 50.0"
   ]
  },
  {
   "cell_type": "code",
   "execution_count": 10,
   "id": "bc238dc5-1408-4779-9525-4297bfcb12a8",
   "metadata": {},
   "outputs": [
    {
     "name": "stdin",
     "output_type": "stream",
     "text": [
      "Enter the temperature in Celsius:  15.17\n"
     ]
    },
    {
     "name": "stdout",
     "output_type": "stream",
     "text": [
      "15.17 degrees Celsius is equal to 59.306 degrees Fahrenheit\n"
     ]
    }
   ],
   "source": [
    "# Q3. Write a Python program that converts temperatures from Celsius to\n",
    "# Fahrenheit. Take the temperature in Celsius as input, store it in a variable,\n",
    "# convert it to Fahrenheit, and display the result.\n",
    "\n",
    "# Prompt the user to enter the temperature in Celsius\n",
    "celsius = float(input(\"Enter the temperature in Celsius: \"))\n",
    "\n",
    "# Convert Celsius to Fahrenheit using the formula: F = (C * 9/5) + 32\n",
    "fahrenheit = (celsius * 9/5) + 32\n",
    "\n",
    "# Display the result\n",
    "print(f\"{celsius} degrees Celsius is equal to {fahrenheit} degrees Fahrenheit\")"
   ]
  },
  {
   "cell_type": "code",
   "execution_count": 11,
   "id": "505a21e6-d672-4dc6-8b15-00ecea800351",
   "metadata": {},
   "outputs": [],
   "source": [
    "# Explanation :-\n",
    "# celsius is 15.17.\n",
    "\n",
    "# To convert Celsius to Fahrenheit, the program uses the following formula:\n",
    "\n",
    "# Fahrenheit = (Celsius * 9/5) + 32\n",
    "# Substituting celsius with the value you provided:\n",
    "\n",
    "# Fahrenheit = (15.17 * 9/5) + 32\n",
    "# Now, let's calculate it:\n",
    "\n",
    "# Fahrenheit = (27.306 + 32)\n",
    "# Fahrenheit = 59.306\n",
    "# So, the calculated Fahrenheit temperature is approximately 59.306 degrees Fahrenheit.\n",
    "# 15.17 degrees Celsius is equal to 59.306 degrees Fahrenheit"
   ]
  },
  {
   "cell_type": "code",
   "execution_count": 12,
   "id": "7c52046c-f685-444a-bb26-4da02d456e84",
   "metadata": {},
   "outputs": [],
   "source": [
    "# TOPIC: String Based Questions"
   ]
  },
  {
   "cell_type": "code",
   "execution_count": 14,
   "id": "d049418e-be2c-4cb2-a65f-498adfb70cb6",
   "metadata": {},
   "outputs": [
    {
     "name": "stdin",
     "output_type": "stream",
     "text": [
      "Enter a string:  aditya\n"
     ]
    },
    {
     "name": "stdout",
     "output_type": "stream",
     "text": [
      "The length of the string is: 6\n"
     ]
    }
   ],
   "source": [
    "# Q1. Write a Python program that takes a string as input and prints the length of\n",
    "# the string.\n",
    "\n",
    "# Prompt the user to enter a string\n",
    "input_string = input(\"Enter a string: \")\n",
    "\n",
    "# Calculate the length of the string using the len() function\n",
    "string_length = len(input_string)\n",
    "\n",
    "# Display the length of the string\n",
    "print(f\"The length of the string is: {string_length}\")"
   ]
  },
  {
   "cell_type": "code",
   "execution_count": 16,
   "id": "0793e329-bc4d-4509-b89d-b9b84ca67684",
   "metadata": {},
   "outputs": [],
   "source": [
    "# Explanations \n",
    "# string is \"aditya\".\n",
    "# The input string \"aditya\" is stored in the variable input_string.\n",
    "# To calculate the length of the string, the program uses the len() function. \n",
    "# The len() function counts the number of characters in the string.\n",
    "# The length of the string \"aditya\" is calculated using len(\"aditya\"), \n",
    "# which equals 6, as there are six characters in the string."
   ]
  },
  {
   "cell_type": "code",
   "execution_count": 18,
   "id": "e121a411-78be-4459-93b7-cb0f9dcd2974",
   "metadata": {},
   "outputs": [
    {
     "name": "stdin",
     "output_type": "stream",
     "text": [
      "Enter a sentence:  Aditya Dharmadhikari\n"
     ]
    },
    {
     "name": "stdout",
     "output_type": "stream",
     "text": [
      "The number of vowels in the sentence is: 8\n"
     ]
    }
   ],
   "source": [
    "# Q2. Create a program that takes a sentence from the user and counts the number\n",
    "# of vowels (a, e, i, o, u) in the string.\n",
    "\n",
    "# Prompt the user to enter a sentence\n",
    "sentence = input(\"Enter a sentence: \")\n",
    "\n",
    "# Initialize a variable to count the number of vowels\n",
    "vowel_count = 0\n",
    "\n",
    "# Define a list of vowels\n",
    "vowels = ['a', 'e', 'i', 'o', 'u']\n",
    "\n",
    "# Convert the input sentence to lowercase to handle both uppercase and lowercase vowels\n",
    "sentence = sentence.lower()\n",
    "\n",
    "# Iterate through each character in the sentence\n",
    "for char in sentence:\n",
    "    if char in vowels:\n",
    "        vowel_count += 1\n",
    "\n",
    "# Display the count of vowels in the sentence\n",
    "print(f\"The number of vowels in the sentence is: {vowel_count}\")"
   ]
  },
  {
   "cell_type": "code",
   "execution_count": 22,
   "id": "3e57480d-67cb-4e83-bd7e-afd9f4d90862",
   "metadata": {},
   "outputs": [],
   "source": [
    "# Explanation \n",
    "\n",
    "# \"aditya dharmadhikari\" is stored in the variable sentence.\n",
    "\n",
    "# The program initializes a variable vowel_count to keep track of the number of vowels found \n",
    "# in the sentence. It starts with a count of 0. \n",
    "# To ensure that the program can handle both uppercase and lowercase vowels, \n",
    "# we convert the entire input sentence  to lowercase using the lower() method. \n",
    "# This way, 'A' and 'a' will both be treated as the same character.\n",
    "# The program then iterates through each character in the lowercase sentence using a for loop. \n",
    "# For the sentence \"aditya dharmadhikari,\" it examines each character one by one.\n",
    "# Inside the loop, the program checks if the current character (char) in the list of vowels.\n",
    "# If it is, the vowel_count is incremented by 1. The number of vowels in the sentence is: 8"
   ]
  },
  {
   "cell_type": "code",
   "execution_count": 24,
   "id": "fa67fc1d-1f64-485e-a7e4-8bee57098222",
   "metadata": {},
   "outputs": [
    {
     "name": "stdout",
     "output_type": "stream",
     "text": [
      "Reversed string: irakihdamrahd aytida\n"
     ]
    }
   ],
   "source": [
    "# Q3. Given a string, reverse the order of characters using string slicing and print\n",
    "# the reversed string.\n",
    "\n",
    "# Input string\n",
    "input_string = \"aditya dharmadhikari\"\n",
    "\n",
    "# Use string slicing to reverse the string\n",
    "reversed_string = input_string[::-1]\n",
    "\n",
    "# Display the reversed string\n",
    "print(\"Reversed string:\", reversed_string)"
   ]
  },
  {
   "cell_type": "code",
   "execution_count": 26,
   "id": "7aad47af-7ffc-4a29-a77a-57eb3a3210b8",
   "metadata": {},
   "outputs": [],
   "source": [
    "# Explanation -\n",
    "# The program starts with the input string \"aditya dharmadhikari,\" which is stored in the \n",
    "# variable input_string. To reverse the string, it uses string slicing with the [::-1] notation. \n",
    "# This notation tells Python to start at the end of the string, move backward with a step of -1 \n",
    "# (i.e., reverse direction), and include all characters.  The result is stored in the \n",
    "# variable reversed_string. The print() function is used to display the reversed string:\n",
    "# Reversed string: irakihdamrahytida"
   ]
  },
  {
   "cell_type": "code",
   "execution_count": 28,
   "id": "0bb45613-0929-4d9f-be36-fd71e1672ecb",
   "metadata": {},
   "outputs": [
    {
     "name": "stdout",
     "output_type": "stream",
     "text": [
      "'aditya dharmadhikari' is not a palindrome.\n"
     ]
    }
   ],
   "source": [
    "# Q4. Write a program that takes a string as input and checks if it is a palindrome\n",
    "# (reads the same forwards and backwards).\n",
    "\n",
    "# Function to check if a string is a palindrome\n",
    "def is_palindrome(s):\n",
    "    # Remove spaces and convert the string to lowercase for case-insensitive comparison\n",
    "    s = s.replace(\" \", \"\").lower()\n",
    "    \n",
    "    # Check if the string is equal to its reverse\n",
    "    return s == s[::-1]\n",
    "\n",
    "# Input string\n",
    "input_string = \"aditya dharmadhikari\"\n",
    "\n",
    "# Check if the input string is a palindrome\n",
    "if is_palindrome(input_string):\n",
    "    print(f\"'{input_string}' is a palindrome.\")\n",
    "else:\n",
    "    print(f\"'{input_string}' is not a palindrome.\")"
   ]
  },
  {
   "cell_type": "code",
   "execution_count": 30,
   "id": "1b87f362-61b7-4685-afee-bf62d0272144",
   "metadata": {},
   "outputs": [],
   "source": [
    "# Explanation \n",
    "# It first removes spaces from the string using replace(\" \", \"\") to ensure spaces \n",
    "# are ignored during the palindrome check. Then, it converts the string to \n",
    "# lowercase using .lower() for case-insensitive comparison.\n",
    "# Finally, it checks if the modified string s is equal to its reverse using s == s[::-1].\n",
    "# The input string \"aditya dharmadhikari\" is stored in the variable input_string\n",
    "# If it's a palindrome: \"'aditya dharmadhikari' is a palindrome.\"\n",
    "# If it's not a palindrome: \"'aditya dharmadhikari' is not a palindrome.\""
   ]
  },
  {
   "cell_type": "code",
   "execution_count": 32,
   "id": "81b3fab1-85be-4f9c-b14c-d8306e8e8f1c",
   "metadata": {},
   "outputs": [
    {
     "name": "stdout",
     "output_type": "stream",
     "text": [
      "Modified string without spaces: helloiamadityadfrompune\n"
     ]
    }
   ],
   "source": [
    "# Q5. Create a program that takes a string as input and removes all the spaces from\n",
    "# it. Print the modified string without spaces.\n",
    "\n",
    "# Input string\n",
    "input_string = \"hello i am aditya d from pune\"\n",
    "\n",
    "# Remove spaces from the input string using replace()\n",
    "modified_string = input_string.replace(\" \", \"\")\n",
    "\n",
    "# Display the modified string without spaces\n",
    "print(\"Modified string without spaces:\", modified_string)"
   ]
  },
  {
   "cell_type": "code",
   "execution_count": 35,
   "id": "4602f343-8562-4bb8-937f-fa39bc154d28",
   "metadata": {},
   "outputs": [],
   "source": [
    "# Explanation :-\n",
    "# The program starts with the input string \"hello i am aditya d from pune,\" \n",
    "# which is stored in the variable input_string.\n",
    "# To remove spaces from the input string, it uses the replace() method with the arguments \" \" \n",
    "# (a space) and an empty string \"\". \n",
    "# This effectively replaces all space characters with nothing, effectively removing them.\n",
    "# Modified string without spaces: helloiamadityadfrompune"
   ]
  }
 ],
 "metadata": {
  "kernelspec": {
   "display_name": "Python 3 (ipykernel)",
   "language": "python",
   "name": "python3"
  },
  "language_info": {
   "codemirror_mode": {
    "name": "ipython",
    "version": 3
   },
   "file_extension": ".py",
   "mimetype": "text/x-python",
   "name": "python",
   "nbconvert_exporter": "python",
   "pygments_lexer": "ipython3",
   "version": "3.10.8"
  }
 },
 "nbformat": 4,
 "nbformat_minor": 5
}
